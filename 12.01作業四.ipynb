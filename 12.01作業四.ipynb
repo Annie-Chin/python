{
 "cells": [
  {
   "cell_type": "code",
   "execution_count": 1,
   "metadata": {},
   "outputs": [
    {
     "data": {
      "text/html": [
       "<div>\n",
       "<style scoped>\n",
       "    .dataframe tbody tr th:only-of-type {\n",
       "        vertical-align: middle;\n",
       "    }\n",
       "\n",
       "    .dataframe tbody tr th {\n",
       "        vertical-align: top;\n",
       "    }\n",
       "\n",
       "    .dataframe thead th {\n",
       "        text-align: right;\n",
       "    }\n",
       "</style>\n",
       "<table border=\"1\" class=\"dataframe\">\n",
       "  <thead>\n",
       "    <tr style=\"text-align: right;\">\n",
       "      <th></th>\n",
       "      <th>Respondent</th>\n",
       "      <th>WorkToolsSelect</th>\n",
       "      <th>LanguageRecommendationSelect</th>\n",
       "      <th>EmployerIndustry</th>\n",
       "      <th>WorkAlgorithmsSelect</th>\n",
       "    </tr>\n",
       "  </thead>\n",
       "  <tbody>\n",
       "    <tr>\n",
       "      <th>0</th>\n",
       "      <td>1</td>\n",
       "      <td>Amazon Web services,Oracle Data Mining/ Oracle...</td>\n",
       "      <td>F#</td>\n",
       "      <td>Internet-based</td>\n",
       "      <td>Neural Networks,Random Forests,RNNs</td>\n",
       "    </tr>\n",
       "    <tr>\n",
       "      <th>1</th>\n",
       "      <td>2</td>\n",
       "      <td>Amazon Machine Learning,Amazon Web services,Cl...</td>\n",
       "      <td>Python</td>\n",
       "      <td>Mix of fields</td>\n",
       "      <td>Bayesian Techniques,Decision Trees,Random Fore...</td>\n",
       "    </tr>\n",
       "    <tr>\n",
       "      <th>2</th>\n",
       "      <td>3</td>\n",
       "      <td>C/C++,Jupyter notebooks,MATLAB/Octave,Python,R...</td>\n",
       "      <td>Python</td>\n",
       "      <td>Technology</td>\n",
       "      <td>Bayesian Techniques,CNNs,Ensemble Methods,Neur...</td>\n",
       "    </tr>\n",
       "    <tr>\n",
       "      <th>3</th>\n",
       "      <td>4</td>\n",
       "      <td>Jupyter notebooks,Python,SQL,TensorFlow</td>\n",
       "      <td>Python</td>\n",
       "      <td>Academic</td>\n",
       "      <td>Bayesian Techniques,CNNs,Decision Trees,Gradie...</td>\n",
       "    </tr>\n",
       "    <tr>\n",
       "      <th>4</th>\n",
       "      <td>5</td>\n",
       "      <td>C/C++,Cloudera,Hadoop/Hive/Pig,Java,NoSQL,R,Un...</td>\n",
       "      <td>R</td>\n",
       "      <td>Government</td>\n",
       "      <td>NaN</td>\n",
       "    </tr>\n",
       "  </tbody>\n",
       "</table>\n",
       "</div>"
      ],
      "text/plain": [
       "   Respondent                                    WorkToolsSelect  \\\n",
       "0           1  Amazon Web services,Oracle Data Mining/ Oracle...   \n",
       "1           2  Amazon Machine Learning,Amazon Web services,Cl...   \n",
       "2           3  C/C++,Jupyter notebooks,MATLAB/Octave,Python,R...   \n",
       "3           4            Jupyter notebooks,Python,SQL,TensorFlow   \n",
       "4           5  C/C++,Cloudera,Hadoop/Hive/Pig,Java,NoSQL,R,Un...   \n",
       "\n",
       "  LanguageRecommendationSelect EmployerIndustry  \\\n",
       "0                           F#   Internet-based   \n",
       "1                       Python    Mix of fields   \n",
       "2                       Python       Technology   \n",
       "3                       Python         Academic   \n",
       "4                            R       Government   \n",
       "\n",
       "                                WorkAlgorithmsSelect  \n",
       "0                Neural Networks,Random Forests,RNNs  \n",
       "1  Bayesian Techniques,Decision Trees,Random Fore...  \n",
       "2  Bayesian Techniques,CNNs,Ensemble Methods,Neur...  \n",
       "3  Bayesian Techniques,CNNs,Decision Trees,Gradie...  \n",
       "4                                                NaN  "
      ]
     },
     "execution_count": 1,
     "metadata": {},
     "output_type": "execute_result"
    }
   ],
   "source": [
    "%matplotlib inline\n",
    "\n",
    "import numpy as np\n",
    "import matplotlib.pyplot as plt\n",
    "import pandas as pd \n",
    "kaggle_survey_csv = \"https://storage.googleapis.com/kaggle_survey/kagglesurvey.csv\"\n",
    "responses = pd.read_csv(kaggle_survey_csv)\n",
    "responses.head()"
   ]
  },
  {
   "cell_type": "code",
   "execution_count": 2,
   "metadata": {},
   "outputs": [
    {
     "name": "stdout",
     "output_type": "stream",
     "text": [
      "(10153, 5)\n",
      "Index(['Respondent', 'WorkToolsSelect', 'LanguageRecommendationSelect',\n",
      "       'EmployerIndustry', 'WorkAlgorithmsSelect'],\n",
      "      dtype='object')\n"
     ]
    }
   ],
   "source": [
    "print(responses.shape)\n",
    "print(responses.columns)"
   ]
  },
  {
   "cell_type": "code",
   "execution_count": 3,
   "metadata": {},
   "outputs": [
    {
     "name": "stdout",
     "output_type": "stream",
     "text": [
      "47409\n"
     ]
    }
   ],
   "source": [
    "tools_select = responses[\"WorkToolsSelect\"].str.split(pat = \",\")\n",
    "tools_select_lst = []\n",
    "for i in tools_select:\n",
    "  if not isinstance(i, list):\n",
    "    tools_select_lst.append(str(i))\n",
    "  else:\n",
    "    for j in i:\n",
    "      tools_select_lst.append(j)\n",
    "print(len(tools_select_lst))"
   ]
  },
  {
   "cell_type": "code",
   "execution_count": 5,
   "metadata": {},
   "outputs": [
    {
     "data": {
      "text/plain": [
       "tools_select\n",
       "Python                 6073\n",
       "R                      4708\n",
       "SQL                    4261\n",
       "Jupyter notebooks      3206\n",
       "TensorFlow             2256\n",
       "nan                    2198\n",
       "Amazon Web services    1868\n",
       "Unix shell / awk       1854\n",
       "Tableau                1619\n",
       "C/C++                  1528\n",
       "dtype: int64"
      ]
     },
     "execution_count": 5,
     "metadata": {},
     "output_type": "execute_result"
    }
   ],
   "source": [
    "tools_select_df = pd.DataFrame( {\"tools_select\": tools_select_lst })\n",
    "grouped = tools_select_df.groupby(\"tools_select\")\n",
    "grouped.size().sort_values(ascending = False)[:10]"
   ]
  },
  {
   "cell_type": "code",
   "execution_count": 6,
   "metadata": {},
   "outputs": [
    {
     "data": {
      "text/plain": [
       "<matplotlib.axes._subplots.AxesSubplot at 0x121f48ef0>"
      ]
     },
     "execution_count": 6,
     "metadata": {},
     "output_type": "execute_result"
    }
   ],
   "source": [
    "top20_tools = grouped.size().sort_values(ascending = False)[:20].sort_values()\n",
    "top20_tools.plot.barh()"
   ]
  },
  {
   "cell_type": "code",
   "execution_count": 7,
   "metadata": {},
   "outputs": [],
   "source": [
    "def select_py_r(x):\n",
    "  \"\"\"\n",
    "  to determine whether the user selects r/python/both\n",
    "  \"\"\"\n",
    "  if (\"R\" in x) & (\"Python\" in x):\n",
    "    return \"Both\"\n",
    "  elif (\"R\" not in x) & (\"Python\" in x):\n",
    "    return \"Python\"\n",
    "  elif (\"R\" in x) & (\"Python\" not in x):\n",
    "    return \"R\"\n",
    "  else:\n",
    "    return \"Neither\"\n",
    "work_tools_select = responses['WorkToolsSelect']\n",
    "py_r_select = []\n",
    "for i in work_tools_select:\n",
    "  if isinstance(i, str):\n",
    "    py_r_select.append(select_py_r(i))\n",
    "  else:\n",
    "    py_r_select.append(\"Neither\")"
   ]
  },
  {
   "cell_type": "code",
   "execution_count": 9,
   "metadata": {},
   "outputs": [
    {
     "data": {
      "text/plain": [
       "py_r_select\n",
       "Both      3660\n",
       "Python    2413\n",
       "R         1220\n",
       "dtype: int64"
      ]
     },
     "execution_count": 9,
     "metadata": {},
     "output_type": "execute_result"
    }
   ],
   "source": [
    "py_r_select_df = pd.DataFrame({\"py_r_select\": py_r_select})\n",
    "py_r_select_df = py_r_select_df[py_r_select_df[\"py_r_select\"] != \"Neither\"]\n",
    "grouped = py_r_select_df.groupby(\"py_r_select\")\n",
    "grouped.size().sort_values(ascending = False)"
   ]
  },
  {
   "cell_type": "code",
   "execution_count": 11,
   "metadata": {},
   "outputs": [
    {
     "data": {
      "text/plain": [
       "PyRSelect  LanguageRecommendationSelect\n",
       "Both       C/C++/C#                          27\n",
       "           F#                                 1\n",
       "           Haskell                            3\n",
       "           Java                              12\n",
       "           Julia                              9\n",
       "           Matlab                            19\n",
       "           Other                             13\n",
       "           Python                          1917\n",
       "           R                                912\n",
       "           SAS                               14\n",
       "           SQL                              108\n",
       "           Scala                             28\n",
       "           Stata                              6\n",
       "Neither    C/C++/C#                          40\n",
       "           Haskell                            2\n",
       "           Java                              22\n",
       "           Julia                              4\n",
       "           Matlab                            47\n",
       "           Other                             16\n",
       "           Python                           196\n",
       "           R                                 94\n",
       "           SAS                               21\n",
       "           SQL                               53\n",
       "           Scala                             12\n",
       "           Stata                              5\n",
       "Python     C/C++/C#                          48\n",
       "           Haskell                            7\n",
       "           Java                              11\n",
       "           Julia                              4\n",
       "           Matlab                            43\n",
       "           Other                              7\n",
       "           Python                          1742\n",
       "           R                                 32\n",
       "           SAS                                4\n",
       "           SQL                               36\n",
       "           Scala                             18\n",
       "           Stata                              2\n",
       "R          C/C++/C#                          27\n",
       "           F#                                 1\n",
       "           Java                              13\n",
       "           Julia                              4\n",
       "           Matlab                            13\n",
       "           Other                             12\n",
       "           Python                           194\n",
       "           R                                632\n",
       "           SAS                               11\n",
       "           SQL                               75\n",
       "           Scala                             12\n",
       "           Stata                              5\n",
       "dtype: int64"
      ]
     },
     "execution_count": 11,
     "metadata": {},
     "output_type": "execute_result"
    }
   ],
   "source": [
    "recommendation = responses\n",
    "recommendation = recommendation.assign(PyRSelect = py_r_select)\n",
    "grouped = recommendation.groupby(['PyRSelect', 'LanguageRecommendationSelect'])\n",
    "grouped.size()"
   ]
  },
  {
   "cell_type": "code",
   "execution_count": null,
   "metadata": {},
   "outputs": [],
   "source": []
  }
 ],
 "metadata": {
  "kernelspec": {
   "display_name": "Python 3",
   "language": "python",
   "name": "python3"
  },
  "language_info": {
   "codemirror_mode": {
    "name": "ipython",
    "version": 3
   },
   "file_extension": ".py",
   "mimetype": "text/x-python",
   "name": "python",
   "nbconvert_exporter": "python",
   "pygments_lexer": "ipython3",
   "version": "3.7.3"
  }
 },
 "nbformat": 4,
 "nbformat_minor": 2
}

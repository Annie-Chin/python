{
 "cells": [
  {
   "cell_type": "code",
   "execution_count": 1,
   "metadata": {},
   "outputs": [],
   "source": [
    "%matplotlib inline\n",
    "\n",
    "import numpy as np\n",
    "import matplotlib.pyplot as plt"
   ]
  },
  {
   "cell_type": "code",
   "execution_count": 2,
   "metadata": {},
   "outputs": [
    {
     "name": "stdout",
     "output_type": "stream",
     "text": [
      "請輸入你的身高(公尺):1.68\n",
      "請輸入你的體重(公斤):70\n",
      "健康寶寶\n"
     ]
    }
   ],
   "source": [
    "h1=input('請輸入你的身高(公尺):')\n",
    "h2=float(h1)\n",
    "w1=input('請輸入你的體重(公斤):')\n",
    "w2=float(w1)\n",
    "BMI=w2/(h2*2)\n",
    "if BMI<18.5:\n",
    "    print('太輕啦')\n",
    "elif 18.5<=BMI<24:\n",
    "    print('健康寶寶')\n",
    "elif BMI>=24:\n",
    "    print('該減肥囉')\n",
    "else:\n",
    "    print('？？？')"
   ]
  },
  {
   "cell_type": "code",
   "execution_count": null,
   "metadata": {},
   "outputs": [],
   "source": []
  }
 ],
 "metadata": {
  "kernelspec": {
   "display_name": "Python 3",
   "language": "python",
   "name": "python3"
  },
  "language_info": {
   "codemirror_mode": {
    "name": "ipython",
    "version": 3
   },
   "file_extension": ".py",
   "mimetype": "text/x-python",
   "name": "python",
   "nbconvert_exporter": "python",
   "pygments_lexer": "ipython3",
   "version": "3.7.3"
  }
 },
 "nbformat": 4,
 "nbformat_minor": 2
}

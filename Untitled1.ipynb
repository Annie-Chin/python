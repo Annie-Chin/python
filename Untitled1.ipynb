{
 "cells": [
  {
   "cell_type": "code",
   "execution_count": 1,
   "metadata": {},
   "outputs": [],
   "source": [
    "%matplotlib inline\n",
    "\n",
    "import numpy as np\n",
    "import matplotlib.pyplot as plt\n",
    "import pandas as pd"
   ]
  },
  {
   "cell_type": "code",
   "execution_count": 3,
   "metadata": {},
   "outputs": [
    {
     "name": "stdout",
     "output_type": "stream",
     "text": [
      "   name  population city\n",
      "0   中正區      159598  台北市\n",
      "1   板橋區      551452  新北市\n",
      "2   桃園區      441287  桃園市\n",
      "3   北屯區      275207  台中市\n",
      "4   安南區      192327  台南市\n",
      "5   三民區      343203  高雄市\n",
      "6   大安區      309835  台北市\n",
      "7   永和區      222531  新北市\n",
      "8   八德區      198473  桃園市\n",
      "9   前鎮區      189623  高雄市\n",
      "10  鳳山區      359125  高雄市\n",
      "11  信義區      225561  台北市\n",
      "12  新店區      302070  新北市\n"
     ]
    }
   ],
   "source": [
    "dists ={ 'name':  ['中正區', '板橋區', '桃園區', '北屯區', '安南區', '三民區', '大安區', '永和區', '八德區', '前鎮區', '鳳山區', '信義區', '新店區'],\n",
    "            'population': [159598, 551452, 441287, 275207, 192327, 343203, 309835, 222531, 198473, 189623, 359125, 225561, 302070], \n",
    "            'city': ['台北市', '新北市', '桃園市', '台中市', '台南市', '高雄市', '台北市', '新北市','桃園市', '高雄市','高雄市', '台北市', '新北市']}\n",
    "df= pd.DataFrame(dists)\n",
    "print(df)"
   ]
  },
  {
   "cell_type": "markdown",
   "metadata": {},
   "source": [
    "#### 讓他變整齊"
   ]
  },
  {
   "cell_type": "code",
   "execution_count": 10,
   "metadata": {},
   "outputs": [],
   "source": [
    "df=df.to_html('Ch9_2_1.html')"
   ]
  },
  {
   "cell_type": "code",
   "execution_count": 11,
   "metadata": {},
   "outputs": [
    {
     "name": "stdout",
     "output_type": "stream",
     "text": [
      "   name  population city\n",
      "1   中正區      159598  台北市\n",
      "2   板橋區      551452  新北市\n",
      "3   桃園區      441287  桃園市\n",
      "4   北屯區      275207  台中市\n",
      "5   安南區      192327  台南市\n",
      "6   三民區      343203  高雄市\n",
      "7   大安區      309835  台北市\n",
      "8   永和區      222531  新北市\n",
      "9   八德區      198473  桃園市\n",
      "10  前鎮區      189623  高雄市\n",
      "11  鳳山區      359125  高雄市\n",
      "12  信義區      225561  台北市\n",
      "13  新店區      302070  新北市\n"
     ]
    }
   ],
   "source": [
    "ordinals=['1', '2', '3', '4','5','6','7', '8', '9', '10', '11','12','13']\n",
    "\n",
    "df=pd.DataFrame(dists, index=ordinals)\n",
    "print(df)"
   ]
  },
  {
   "cell_type": "code",
   "execution_count": null,
   "metadata": {},
   "outputs": [],
   "source": []
  }
 ],
 "metadata": {
  "kernelspec": {
   "display_name": "Python 3",
   "language": "python",
   "name": "python3"
  },
  "language_info": {
   "codemirror_mode": {
    "name": "ipython",
    "version": 3
   },
   "file_extension": ".py",
   "mimetype": "text/x-python",
   "name": "python",
   "nbconvert_exporter": "python",
   "pygments_lexer": "ipython3",
   "version": "3.7.3"
  }
 },
 "nbformat": 4,
 "nbformat_minor": 2
}

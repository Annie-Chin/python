{
 "cells": [
  {
   "cell_type": "code",
   "execution_count": 1,
   "metadata": {},
   "outputs": [],
   "source": [
    "%matplotlib inline\n",
    "\n",
    "import numpy as np\n",
    "import matplotlib.pyplot as plt\n",
    "import pandas as pd "
   ]
  },
  {
   "cell_type": "code",
   "execution_count": null,
   "metadata": {},
   "outputs": [],
   "source": [
    "num = int(input('請輸入玩家數：>=3 \\n'))\n",
    "if num < 3:\n",
    "    print('人數不夠，請輸入＞=3的人數')\n",
    "\n",
    "#生成一个隨機數，指定卧底\n",
    "\n",
    "import random\n",
    "wodi = random.randint(1,num)  #第幾個人是卧底\n",
    "print(wodi)\n",
    "word = []  #指定身份列表\n",
    "for i in range(1,num+1):\n",
    "    word.append('平民')\n",
    "    if i == wodi:\n",
    "        word[i-1] = '卧底'\n",
    "\n",
    "print(word)\n",
    "vote = []  #投票列表。判斷最高票數\n",
    "dead = []  #死亡列表，已死的平民\n",
    "\n",
    "#初始化列表\n",
    "for i in range(0,num):\n",
    "    vote.append(0)\n",
    "    dead.append(num+10)\n",
    "\n",
    "#samevote是判斷有没有同樣最高票數，wodiwin判断卧底赢了没\n",
    "wodi_win = 0\n",
    "\n",
    "#投票環節\n",
    "def all_vote(num,ifMax):\n",
    "    #第一步清空投票池\n",
    "    for j in range(0, num):\n",
    "            vote[j] = 0\n",
    "    #第二部相同最高票數則只能針對最高票數投票，否則直接投票\n",
    "    for j in range(0, num):\n",
    "        if (j not in dead):\n",
    "            if ifMax:\n",
    "                vote2p = int(input('請%d號玩家投票，只能針對最高票數的幾位\\n' % (j + 1))) - 1\n",
    "            else:\n",
    "                vote2p = int(input('請%d號玩家投票\\n' % (j + 1))) - 1\n",
    "            vote[vote2p] += 1\n",
    "\n",
    "for x in range(0, num - 1):\n",
    "    for k in range(0, num):\n",
    "        if (k not in dead):\n",
    "            print('%d號玩家發言時間' % (k + 1))\n",
    "    print('發言環節结束')\n",
    "\n",
    "    # 將各位玩家的票數置0\n",
    "    all_vote(num,0)\n",
    "\n",
    "    for y in range(0, num):\n",
    "        if ((vote[y] == max(vote)) & (y != vote.index(max(vote)))):\n",
    "            print('不只一位玩家得到最高票數,請這些玩家重新發言')\n",
    "            all_vote(num,1)\n",
    "    #第幾位死亡，則加入死亡列表，死的是卧底則遊戲结束，否則繼續\n",
    "    dead[x] = vote.index(max(vote))\n",
    "    print(vote)\n",
    "    if (dead[x]+1 == wodi):\n",
    "        print('卧底得到最多票數，遊戲结束')\n",
    "        wodi_win = 1\n",
    "        break\n",
    "    print('%d號玩家被冤死!' % (dead[x] + 1))\n",
    "\n",
    "# 遊戲结束\n",
    "if (wodi_win == 0):\n",
    "    print('只剩兩名玩家，卧底勝利！')"
   ]
  },
  {
   "cell_type": "code",
   "execution_count": null,
   "metadata": {},
   "outputs": [],
   "source": []
  }
 ],
 "metadata": {
  "kernelspec": {
   "display_name": "Python 3",
   "language": "python",
   "name": "python3"
  },
  "language_info": {
   "codemirror_mode": {
    "name": "ipython",
    "version": 3
   },
   "file_extension": ".py",
   "mimetype": "text/x-python",
   "name": "python",
   "nbconvert_exporter": "python",
   "pygments_lexer": "ipython3",
   "version": "3.7.3"
  }
 },
 "nbformat": 4,
 "nbformat_minor": 2
}

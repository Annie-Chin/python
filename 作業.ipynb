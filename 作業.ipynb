{
 "cells": [
  {
   "cell_type": "code",
   "execution_count": 3,
   "metadata": {},
   "outputs": [
    {
     "name": "stdout",
     "output_type": "stream",
     "text": [
      "你的血型代表什麼個性？\n"
     ]
    },
    {
     "data": {
      "application/vnd.jupyter.widget-view+json": {
       "model_id": "3cdaf45f3a4c42aea0b7645f1c655b54",
       "version_major": 2,
       "version_minor": 0
      },
      "text/plain": [
       "interactive(children=(Dropdown(description='血型', options={'A型': '在奇怪地方有原則；深思熟慮後才行動；不坦率；會為了別人勉強自己；怕麻煩；不擅長道歉；和平主…"
      ]
     },
     "metadata": {},
     "output_type": "display_data"
    },
    {
     "data": {
      "text/plain": [
       "<function __main__.f(血型)>"
      ]
     },
     "execution_count": 3,
     "metadata": {},
     "output_type": "execute_result"
    }
   ],
   "source": [
    "from ipywidgets import interact\n",
    "print('你的血型代表什麼個性？')\n",
    "def f(血型):\n",
    "    print(血型)\n",
    "interact (f, 血型={'A型': '在奇怪地方有原則；深思熟慮後才行動；不坦率；會為了別人勉強自己；怕麻煩；不擅長道歉；和平主義者；不擅長說明；在意奇怪的點；愛哭；容易悲觀；擅長配合別人；喜歡努力堅持；不擅長拒絕；好強；煩躁時不愛說話；對喜歡事物會堅持；直覺狠準；優柔寡斷；不口出惡言；容易忽是別人；獨佔欲強；初次見面會照顧對方情緒；不會半途而廢。',\n",
    "                         'B型':'不擅長沉默；討厭閒著沒事；健忘；不想去察顏觀色；想做就能做到；比較有常識；和人交往慢熟；討厭被麻煩；距離太近就想逃避；無法忍受沒有獨處的時光；話題經常轉變；三天打魚兩天曬網；自由奔放；口風很緊；生氣起來很嚇人；討厭很多人的時候；不喜歡的人會一直不喜歡；很難冷靜下來；說話很大聲；意外地怕寂寞；就算友人的邀請也會拒絕；大咧咧；討厭背後說人壞話；不擅長說謊；喜怒形於色。',\n",
    "                         'O型':'容易小題大作；無法長時間持續太拼的狀態；擅長照顧別人的心情；不會按照計畫行事；運氣不錯；拖延症重度患者；討厭競爭、常因馬虎犯小錯誤；生氣的話就會覺得很麻煩；總是記住奇怪的小事；容易忌妒；自尊心很強；算是樂觀主義者；善於傾聽別人的煩惱；對人忽冷忽熱；容易一見鍾情；被誇獎會進步更快；討厭麻煩；常會先道歉；喜歡跟別人說話；很會察顏觀色；意外地宅；口頭禪是「睏」；行動先於思考。',\n",
    "                         'AB型':'熱血行動派；比起磨蹭更喜歡一股作氣；在奇怪的方面非常頑固；喜歡逞強；不喜歡人多的地方；有點懶散；不擅長拒絕別人；黑白分明；常把麻煩掛在嘴邊；喜歡分析別人；常後悔；某些方面很謹慎；沒長性；不擅長表現自己；擅長社交；沉迷某事異常熱情；容易拘泥不知變通；領悟力好；怕生害羞；表面工夫做的很好；沉著冷靜；喜歡被依賴；易招來誤解；喜歡收集東西；好惡分明。'})"
   ]
  },
  {
   "cell_type": "code",
   "execution_count": null,
   "metadata": {},
   "outputs": [],
   "source": []
  }
 ],
 "metadata": {
  "kernelspec": {
   "display_name": "Python 3",
   "language": "python",
   "name": "python3"
  },
  "language_info": {
   "codemirror_mode": {
    "name": "ipython",
    "version": 3
   },
   "file_extension": ".py",
   "mimetype": "text/x-python",
   "name": "python",
   "nbconvert_exporter": "python",
   "pygments_lexer": "ipython3",
   "version": "3.7.3"
  }
 },
 "nbformat": 4,
 "nbformat_minor": 2
}

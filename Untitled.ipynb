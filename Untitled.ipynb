{
 "cells": [
  {
   "cell_type": "code",
   "execution_count": 1,
   "metadata": {},
   "outputs": [
    {
     "name": "stdout",
     "output_type": "stream",
     "text": [
      "11.12homework.ipynb                   Ch9_2_1.html\r\n",
      "11.26作業一.ipynb                     README.md.pages\r\n",
      "11.26作業七.ipynb                     README.txt\r\n",
      "11.26作業三.ipynb                     Untitled.ipynb\r\n",
      "11.26作業二.ipynb                     Untitled1.ipynb\r\n",
      "11.26作業五.ipynb                     Untitled2.ipynb\r\n",
      "11.26作業六.ipynb                     Untitled3.ipynb\r\n",
      "11.26作業四.ipynb                     survey.csv\r\n",
      "111.ipynb                             作業.ipynb\r\n",
      "12.01 作業一.ipynb                    爬蟲.ipynb\r\n",
      "12.01作業三.ipynb                     鳶尾花.ipynb\r\n",
      "12.01作業二.ipynb                     第十二週.ipynb\r\n",
      "12.01作業四.ipynb                     真實世界數據分析.ipynb\r\n",
      "1234.ipynb                            政大女生按照科系排序.ipynb\r\n",
      "Boston House Price Forecast.ipynb\r\n"
     ]
    }
   ],
   "source": [
    "%ls"
   ]
  },
  {
   "cell_type": "code",
   "execution_count": 9,
   "metadata": {},
   "outputs": [],
   "source": [
    "from random import randint"
   ]
  },
  {
   "cell_type": "code",
   "execution_count": 10,
   "metadata": {},
   "outputs": [
    {
     "name": "stdout",
     "output_type": "stream",
     "text": [
      "88,30,47,25,26,45,77,49,100,20,9,48,34,55,35,41,1,63,54,58,28,3,37,19,17,22,4,67,59,97,7,71,21,30,52,92,96,65,26,76,93,4,61,29,20,4,17,40,90,72,50,89,61,71,92,17,43,7,41,28,53,18,2,79,8,82,16,49,19,91,6,98,40,88,21,5,12,71,71,79,9,38,62,75,82,21,1,11,36,67,63,95,91,68,60,2,18,85,74,37,"
     ]
    }
   ],
   "source": [
    "for i in range(100):\n",
    "    print(randint(1, 100),end=',')"
   ]
  },
  {
   "cell_type": "code",
   "execution_count": 11,
   "metadata": {},
   "outputs": [],
   "source": [
    "import numpy as np"
   ]
  },
  {
   "cell_type": "code",
   "execution_count": 12,
   "metadata": {},
   "outputs": [
    {
     "name": "stdout",
     "output_type": "stream",
     "text": [
      "29,97,34,18,24,77,70,87,72,37,68,28,41,87,80,61,42,77,46,34,94,83,51,86,54,75,79,66,27,48,44,35,62,42,68,77,94,22,42,82,61,83,39,45,6,39,19,28,8,25,53,49,4,96,83,44,19,34,79,83,12,54,84,49,67,28,21,67,55,75,84,80,24,7,63,50,25,32,8,82,86,15,17,65,14,71,16,27,36,26,11,66,50,64,94,27,67,53,68,89,"
     ]
    }
   ],
   "source": [
    "for i in range(100):\n",
    "    print(np.random.randint(1,100),end=',')"
   ]
  },
  {
   "cell_type": "code",
   "execution_count": 13,
   "metadata": {},
   "outputs": [
    {
     "name": "stdout",
     "output_type": "stream",
     "text": [
      "18*10*36*19*56*78*4*60*33*28*90*74*6*74*10*78*66*35*96*26*75*50*32*49*63*34*67*82*22*16*71*44*48*11*62*76*43*70*25*98*39*67*41*32*56*3*33*30*38*22*66*23*70*63*9*39*12*95*30*37*98*34*35*50*50*96*39*7*43*65*77*11*48*17*82*41*28*69*51*48*6*1*10*83*41*58*79*1*14*62*36*97*18*78*97*10*79*72*58*11*"
     ]
    }
   ],
   "source": [
    "for i in range(100):\n",
    "    print(np.random.randint(1,100),end='*')"
   ]
  },
  {
   "cell_type": "code",
   "execution_count": 14,
   "metadata": {},
   "outputs": [
    {
     "name": "stdout",
     "output_type": "stream",
     "text": [
      "22&8&20&33&88&2&81&2&5&6&27&12&51&90&13&23&43&84&68&17&9&37&98&43&89&5&17&44&59&1&88&72&23&18&72&19&16&30&30&22&55&97&26&17&69&85&16&65&5&10&1&46&17&86&33&11&2&32&60&22&86&95&47&53&40&50&64&33&15&60&85&46&71&42&92&18&16&33&5&21&20&68&18&49&84&45&24&71&98&52&92&37&58&10&85&69&77&32&3&5&"
     ]
    }
   ],
   "source": [
    "for i in range(100):\n",
    "    print(np.random.randint(1,100),end='&')"
   ]
  },
  {
   "cell_type": "code",
   "execution_count": 15,
   "metadata": {},
   "outputs": [
    {
     "name": "stdout",
     "output_type": "stream",
     "text": [
      "你今天的幸運數字是92!\n"
     ]
    }
   ],
   "source": [
    "n=randint(1,100)\n",
    "print(f'你今天的幸運數字是{n}!')"
   ]
  },
  {
   "cell_type": "code",
   "execution_count": 16,
   "metadata": {},
   "outputs": [
    {
     "name": "stdout",
     "output_type": "stream",
     "text": [
      "The following commands were written to file `spam.py`:\n",
      "from random import randint\n",
      "n=randint(1,100)\n",
      "print(f'你今天的幸運數字是{n}!')\n"
     ]
    }
   ],
   "source": [
    "%save spam.py 9 15"
   ]
  },
  {
   "cell_type": "code",
   "execution_count": 18,
   "metadata": {},
   "outputs": [
    {
     "name": "stdout",
     "output_type": "stream",
     "text": [
      "3\n"
     ]
    }
   ],
   "source": [
    "from random import randint\n",
    "n=randint(1,100)\n",
    "print(n)"
   ]
  },
  {
   "cell_type": "code",
   "execution_count": null,
   "metadata": {},
   "outputs": [
    {
     "name": "stdout",
     "output_type": "stream",
     "text": [
      "你猜哪個數字？100\n",
      "太大了\n",
      "你猜哪個數字？50\n",
      "太大了\n",
      "你猜哪個數字？3\n",
      "太大了\n",
      "你猜哪個數字？2\n",
      "猜對了\n"
     ]
    }
   ],
   "source": [
    "from random import randint\n",
    "n=randint(1,100)\n",
    "\n",
    "cont=True\n",
    "\n",
    "while cont:\n",
    "    guess= int(input('你猜哪個數字？'))\n",
    "    if guess>n:\n",
    "        print('太大了')\n",
    "    elif guess<n:\n",
    "        print('太小了')\n",
    "    else:\n",
    "        print('猜對了')"
   ]
  },
  {
   "cell_type": "code",
   "execution_count": null,
   "metadata": {},
   "outputs": [
    {
     "name": "stdout",
     "output_type": "stream",
     "text": [
      "你猜哪個數字？50\n",
      "太大了\n",
      "你猜哪個數字？30\n",
      "太大了\n",
      "你猜哪個數字？10\n",
      "太小了\n",
      "你猜哪個數字？25\n",
      "太小了\n",
      "你猜哪個數字？28\n",
      "太小了\n",
      "你猜哪個數字？29\n",
      "猜對了\n"
     ]
    }
   ],
   "source": [
    "from random import randint\n",
    "n=randint(1,100)\n",
    "\n",
    "cont=True\n",
    "\n",
    "while cont:\n",
    "    guess= int(input('你猜哪個數字？'))\n",
    "    if guess>n:\n",
    "        print('太大了')\n",
    "    elif guess<n:\n",
    "        print('太小了')\n",
    "    else:\n",
    "        print('猜對了')"
   ]
  },
  {
   "cell_type": "code",
   "execution_count": 1,
   "metadata": {},
   "outputs": [
    {
     "name": "stdout",
     "output_type": "stream",
     "text": [
      "Collecting streamlit\n",
      "\u001b[?25l  Downloading https://files.pythonhosted.org/packages/37/e2/c92db0c7e99f33f2e06d7a7fbd5237dfbb3272ee4ecaedc8c064a6c305a8/streamlit-0.51.0-py2.py3-none-any.whl (6.3MB)\n",
      "\u001b[K     |████████████████████████████████| 6.3MB 1.9MB/s eta 0:00:01\n",
      "\u001b[?25hRequirement already satisfied: numpy in /Users/anniechin/anaconda3/lib/python3.7/site-packages (from streamlit) (1.16.4)\n",
      "Collecting altair>=3.2.0 (from streamlit)\n",
      "\u001b[?25l  Downloading https://files.pythonhosted.org/packages/67/fe/2584ab143719f073abb4884049a1ef2e5daf277d9c5a3a47df03cd7ad4ab/altair-4.0.0-py2.py3-none-any.whl (709kB)\n",
      "\u001b[K     |████████████████████████████████| 716kB 2.4MB/s eta 0:00:01\n",
      "\u001b[?25hCollecting tzlocal (from streamlit)\n",
      "  Downloading https://files.pythonhosted.org/packages/ef/99/53bd1ac9349262f59c1c421d8fcc2559ae8a5eeffed9202684756b648d33/tzlocal-2.0.0-py2.py3-none-any.whl\n",
      "Collecting blinker (from streamlit)\n",
      "\u001b[?25l  Downloading https://files.pythonhosted.org/packages/1b/51/e2a9f3b757eb802f61dc1f2b09c8c99f6eb01cf06416c0671253536517b6/blinker-1.4.tar.gz (111kB)\n",
      "\u001b[K     |████████████████████████████████| 112kB 2.6MB/s eta 0:00:01\n",
      "\u001b[?25hRequirement already satisfied: requests in /Users/anniechin/anaconda3/lib/python3.7/site-packages (from streamlit) (2.22.0)\n",
      "Collecting watchdog (from streamlit)\n",
      "\u001b[?25l  Downloading https://files.pythonhosted.org/packages/bb/e3/5a55d48a29300160779f0a0d2776d17c1b762a2039b36de528b093b87d5b/watchdog-0.9.0.tar.gz (85kB)\n",
      "\u001b[K     |████████████████████████████████| 92kB 4.0MB/s eta 0:00:011\n",
      "\u001b[?25hRequirement already satisfied: click>=7.0 in /Users/anniechin/anaconda3/lib/python3.7/site-packages (from streamlit) (7.0)\n",
      "Collecting validators (from streamlit)\n",
      "  Downloading https://files.pythonhosted.org/packages/72/8a/f99287daae8cfef938e6eec785f6e259bf6bad93269d5398bb546d5b1563/validators-0.14.1.tar.gz\n",
      "Collecting toml (from streamlit)\n",
      "  Downloading https://files.pythonhosted.org/packages/a2/12/ced7105d2de62fa7c8fb5fce92cc4ce66b57c95fb875e9318dba7f8c5db0/toml-0.10.0-py2.py3-none-any.whl\n",
      "Collecting base58 (from streamlit)\n",
      "  Downloading https://files.pythonhosted.org/packages/09/b2/21ac9591f055acc145afead895edeb73bbd69d95cf366fc5c2233f2434cb/base58-1.0.3-py3-none-any.whl\n",
      "Requirement already satisfied: future in /Users/anniechin/anaconda3/lib/python3.7/site-packages (from streamlit) (0.17.1)\n",
      "Collecting enum-compat (from streamlit)\n",
      "  Downloading https://files.pythonhosted.org/packages/55/ae/467bc4509246283bb59746e21a1a2f5a8aecbef56b1fa6eaca78cd438c8b/enum_compat-0.0.3-py3-none-any.whl\n",
      "Requirement already satisfied: pandas>=0.21.0 in /Users/anniechin/anaconda3/lib/python3.7/site-packages (from streamlit) (0.24.2)\n",
      "Collecting boto3 (from streamlit)\n",
      "\u001b[?25l  Downloading https://files.pythonhosted.org/packages/39/8b/250778bc5fd4b9a91d7916f8729b346931be419052130548617139247ba6/boto3-1.10.41-py2.py3-none-any.whl (128kB)\n",
      "\u001b[K     |████████████████████████████████| 133kB 2.4MB/s eta 0:00:01\n",
      "\u001b[?25hCollecting pillow>=6.2.0 (from streamlit)\n",
      "\u001b[?25l  Downloading https://files.pythonhosted.org/packages/85/28/2c72ba965b52884a0bd71e419761fc162763dc2e5d9bec2f3b1949f7272a/Pillow-6.2.1-cp37-cp37m-macosx_10_6_intel.whl (3.9MB)\n",
      "\u001b[K     |████████████████████████████████| 3.9MB 1.8MB/s eta 0:00:01\n",
      "\u001b[?25hCollecting protobuf>=3.6.0 (from streamlit)\n",
      "\u001b[?25l  Downloading https://files.pythonhosted.org/packages/63/c3/c1929b176a62f2960fe8f9346bd7c3ed42dc2af7d61c0e9b21e36c68e2ce/protobuf-3.11.1-cp37-cp37m-macosx_10_9_intel.whl (1.4MB)\n",
      "\u001b[K     |████████████████████████████████| 1.4MB 2.5MB/s eta 0:00:01\n",
      "\u001b[?25hCollecting botocore (from streamlit)\n",
      "\u001b[?25l  Downloading https://files.pythonhosted.org/packages/49/e0/a9a53656126a635120c0f7eaee3ff3b26a4a08596d10e7192fd91ce19e5c/botocore-1.13.41-py2.py3-none-any.whl (5.8MB)\n",
      "\u001b[K     |████████████████████████████████| 5.8MB 1.2MB/s eta 0:00:01     |████████████▏                   | 2.2MB 1.5MB/s eta 0:00:03\n",
      "\u001b[?25hCollecting astor (from streamlit)\n",
      "  Downloading https://files.pythonhosted.org/packages/c3/88/97eef84f48fa04fbd6750e62dcceafba6c63c81b7ac1420856c8dcc0a3f9/astor-0.8.1-py2.py3-none-any.whl\n",
      "Collecting tornado<6.0,>=5.0 (from streamlit)\n",
      "\u001b[?25l  Downloading https://files.pythonhosted.org/packages/e6/78/6e7b5af12c12bdf38ca9bfe863fcaf53dc10430a312d0324e76c1e5ca426/tornado-5.1.1.tar.gz (516kB)\n",
      "\u001b[K     |████████████████████████████████| 522kB 4.3MB/s eta 0:00:01\n",
      "\u001b[?25hRequirement already satisfied: toolz in /Users/anniechin/anaconda3/lib/python3.7/site-packages (from altair>=3.2.0->streamlit) (0.10.0)\n",
      "Requirement already satisfied: entrypoints in /Users/anniechin/anaconda3/lib/python3.7/site-packages (from altair>=3.2.0->streamlit) (0.3)\n",
      "Requirement already satisfied: jsonschema in /Users/anniechin/anaconda3/lib/python3.7/site-packages (from altair>=3.2.0->streamlit) (3.0.1)\n",
      "Requirement already satisfied: jinja2 in /Users/anniechin/anaconda3/lib/python3.7/site-packages (from altair>=3.2.0->streamlit) (2.10.1)\n",
      "Requirement already satisfied: pytz in /Users/anniechin/anaconda3/lib/python3.7/site-packages (from tzlocal->streamlit) (2019.1)\n",
      "Requirement already satisfied: urllib3!=1.25.0,!=1.25.1,<1.26,>=1.21.1 in /Users/anniechin/anaconda3/lib/python3.7/site-packages (from requests->streamlit) (1.24.2)\n",
      "Requirement already satisfied: idna<2.9,>=2.5 in /Users/anniechin/anaconda3/lib/python3.7/site-packages (from requests->streamlit) (2.8)\n",
      "Requirement already satisfied: chardet<3.1.0,>=3.0.2 in /Users/anniechin/anaconda3/lib/python3.7/site-packages (from requests->streamlit) (3.0.4)\n",
      "Requirement already satisfied: certifi>=2017.4.17 in /Users/anniechin/anaconda3/lib/python3.7/site-packages (from requests->streamlit) (2019.6.16)\n",
      "Requirement already satisfied: PyYAML>=3.10 in /Users/anniechin/anaconda3/lib/python3.7/site-packages (from watchdog->streamlit) (5.1.1)\n",
      "Collecting argh>=0.24.1 (from watchdog->streamlit)\n",
      "  Downloading https://files.pythonhosted.org/packages/06/1c/e667a7126f0b84aaa1c56844337bf0ac12445d1beb9c8a6199a7314944bf/argh-0.26.2-py2.py3-none-any.whl\n",
      "Collecting pathtools>=0.1.1 (from watchdog->streamlit)\n",
      "  Downloading https://files.pythonhosted.org/packages/e7/7f/470d6fcdf23f9f3518f6b0b76be9df16dcc8630ad409947f8be2eb0ed13a/pathtools-0.1.2.tar.gz\n",
      "Requirement already satisfied: six>=1.4.0 in /Users/anniechin/anaconda3/lib/python3.7/site-packages (from validators->streamlit) (1.12.0)\n",
      "Requirement already satisfied: decorator>=3.4.0 in /Users/anniechin/anaconda3/lib/python3.7/site-packages (from validators->streamlit) (4.4.0)\n",
      "Requirement already satisfied: python-dateutil>=2.5.0 in /Users/anniechin/anaconda3/lib/python3.7/site-packages (from pandas>=0.21.0->streamlit) (2.8.0)\n",
      "Collecting s3transfer<0.3.0,>=0.2.0 (from boto3->streamlit)\n",
      "\u001b[?25l  Downloading https://files.pythonhosted.org/packages/16/8a/1fc3dba0c4923c2a76e1ff0d52b305c44606da63f718d14d3231e21c51b0/s3transfer-0.2.1-py2.py3-none-any.whl (70kB)\n",
      "\u001b[K     |████████████████████████████████| 71kB 3.2MB/s eta 0:00:011\n",
      "\u001b[?25hCollecting jmespath<1.0.0,>=0.7.1 (from boto3->streamlit)\n",
      "  Downloading https://files.pythonhosted.org/packages/83/94/7179c3832a6d45b266ddb2aac329e101367fbdb11f425f13771d27f225bb/jmespath-0.9.4-py2.py3-none-any.whl\n",
      "Requirement already satisfied: setuptools in /Users/anniechin/anaconda3/lib/python3.7/site-packages (from protobuf>=3.6.0->streamlit) (41.0.1)\n",
      "Requirement already satisfied: docutils<0.16,>=0.10 in /Users/anniechin/anaconda3/lib/python3.7/site-packages (from botocore->streamlit) (0.14)\n",
      "Requirement already satisfied: attrs>=17.4.0 in /Users/anniechin/anaconda3/lib/python3.7/site-packages (from jsonschema->altair>=3.2.0->streamlit) (19.1.0)\n",
      "Requirement already satisfied: pyrsistent>=0.14.0 in /Users/anniechin/anaconda3/lib/python3.7/site-packages (from jsonschema->altair>=3.2.0->streamlit) (0.14.11)\n",
      "Requirement already satisfied: MarkupSafe>=0.23 in /Users/anniechin/anaconda3/lib/python3.7/site-packages (from jinja2->altair>=3.2.0->streamlit) (1.1.1)\n",
      "Building wheels for collected packages: blinker, watchdog, validators, tornado, pathtools\n",
      "  Building wheel for blinker (setup.py) ... \u001b[?25ldone\n",
      "\u001b[?25h  Stored in directory: /Users/anniechin/Library/Caches/pip/wheels/92/a0/00/8690a57883956a301d91cf4ec999cc0b258b01e3f548f86e89\n"
     ]
    },
    {
     "name": "stdout",
     "output_type": "stream",
     "text": [
      "  Building wheel for watchdog (setup.py) ... \u001b[?25ldone\n",
      "\u001b[?25h  Stored in directory: /Users/anniechin/Library/Caches/pip/wheels/61/1d/d0/04cfe495619be2095eb8d89a31c42adb4e42b76495bc8f784c\n",
      "  Building wheel for validators (setup.py) ... \u001b[?25ldone\n",
      "\u001b[?25h  Stored in directory: /Users/anniechin/Library/Caches/pip/wheels/a1/fb/78/272466691f4117974f8d5811e4060fc61e1179a1c00db6f9bb\n",
      "  Building wheel for tornado (setup.py) ... \u001b[?25ldone\n",
      "\u001b[?25h  Stored in directory: /Users/anniechin/Library/Caches/pip/wheels/6d/e1/ce/f4ee2fa420cc6b940123c64992b81047816d0a9fad6b879325\n",
      "  Building wheel for pathtools (setup.py) ... \u001b[?25ldone\n",
      "\u001b[?25h  Stored in directory: /Users/anniechin/Library/Caches/pip/wheels/0b/04/79/c3b0c3a0266a3cb4376da31e5bfe8bba0c489246968a68e843\n",
      "Successfully built blinker watchdog validators tornado pathtools\n",
      "Installing collected packages: altair, tzlocal, blinker, argh, pathtools, watchdog, validators, toml, base58, enum-compat, jmespath, botocore, s3transfer, boto3, pillow, protobuf, astor, tornado, streamlit\n",
      "  Found existing installation: Pillow 6.1.0\n",
      "    Uninstalling Pillow-6.1.0:\n",
      "      Successfully uninstalled Pillow-6.1.0\n",
      "  Found existing installation: tornado 6.0.3\n",
      "    Uninstalling tornado-6.0.3:\n",
      "      Successfully uninstalled tornado-6.0.3\n",
      "Successfully installed altair-4.0.0 argh-0.26.2 astor-0.8.1 base58-1.0.3 blinker-1.4 boto3-1.10.41 botocore-1.13.41 enum-compat-0.0.3 jmespath-0.9.4 pathtools-0.1.2 pillow-6.2.1 protobuf-3.11.1 s3transfer-0.2.1 streamlit-0.51.0 toml-0.10.0 tornado-5.1.1 tzlocal-2.0.0 validators-0.14.1 watchdog-0.9.0\n"
     ]
    }
   ],
   "source": [
    "!pip install streamlit"
   ]
  },
  {
   "cell_type": "code",
   "execution_count": null,
   "metadata": {},
   "outputs": [],
   "source": [
    "%%writefile web03.py\n",
    "import pandas as pd\n",
    "import streamlit as st\n",
    "import matplotlib.pyplot as plt\n",
    "import numpy as np\n",
    "\n",
    "x= np.linspace(-10, 10,200)\n",
    "y= np.sinc(x)\n",
    "st.title('matplotlib cj84wj6')\n",
    "st.markdown(r'畫一個圖')"
   ]
  },
  {
   "cell_type": "code",
   "execution_count": 9,
   "metadata": {},
   "outputs": [
    {
     "data": {
      "text/plain": [
       "<streamlit.DeltaGenerator.DeltaGenerator at 0x11505ff60>"
      ]
     },
     "execution_count": 9,
     "metadata": {},
     "output_type": "execute_result"
    },
    {
     "data": {
      "image/png": "[encoded data removed]",
      "text/plain": [
       "<Figure size 432x288 with 1 Axes>"
      ]
     },
     "metadata": {
      "needs_background": "light"
     },
     "output_type": "display_data"
    }
   ],
   "source": [
    "plt.plot(x,y)\n",
    "st.pyplot()"
   ]
  },
  {
   "cell_type": "code",
   "execution_count": 3,
   "metadata": {},
   "outputs": [
    {
     "name": "stdout",
     "output_type": "stream",
     "text": [
      "Writing web04.py\n"
     ]
    }
   ],
   "source": [
    "%%writefile web04.py\n",
    "import pandas as pd\n",
    "import streamlit as st\n",
    "import matplotlib.pyplot as plt\n",
    "import numpy as np\n",
    "city= st.selectbox('居住地', ['台北市'], ['台中市'], ['高雄市'])\n",
    "st.write(f'你選擇了{city}!')"
   ]
  },
  {
   "cell_type": "code",
   "execution_count": 10,
   "metadata": {},
   "outputs": [
    {
     "name": "stdout",
     "output_type": "stream",
     "text": [
      "Writing web07.py\n"
     ]
    }
   ],
   "source": [
    "%%writefile web07.py\n",
    "import pandas as pd\n",
    "import streamlit as st\n",
    "import matplotlib.pyplot as plt\n",
    "import numpy as np\n",
    "\n",
    "map_data = pd.DataFrame(np.randn(150,2)/[100,100]+[24.986867,121.576216])\n",
    "\n"
   ]
  },
  {
   "cell_type": "code",
   "execution_count": null,
   "metadata": {},
   "outputs": [
    {
     "name": "stdout",
     "output_type": "stream",
     "text": [
      "\r\n",
      "  👋 \u001b[1mWelcome to Streamlit!\u001b[0m\r\n",
      "\r\n",
      "  If you are one of our development partners or are interested in\r\n",
      "  getting personal technical support, please enter your email address\r\n",
      "  below. Otherwise, you may leave the field blank.\r\n",
      "\r\n",
      "  \u001b[34mEmail: \u001b[0m"
     ]
    }
   ],
   "source": [
    "!streamlit run web07.py"
   ]
  },
  {
   "cell_type": "code",
   "execution_count": null,
   "metadata": {},
   "outputs": [],
   "source": []
  }
 ],
 "metadata": {
  "kernelspec": {
   "display_name": "Python 3",
   "language": "python",
   "name": "python3"
  },
  "language_info": {
   "codemirror_mode": {
    "name": "ipython",
    "version": 3
   },
   "file_extension": ".py",
   "mimetype": "text/x-python",
   "name": "python",
   "nbconvert_exporter": "python",
   "pygments_lexer": "ipython3",
   "version": "3.7.3"
  }
 },
 "nbformat": 4,
 "nbformat_minor": 2
}

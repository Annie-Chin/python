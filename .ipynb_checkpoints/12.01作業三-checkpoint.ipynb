{
 "cells": [
  {
   "cell_type": "code",
   "execution_count": 1,
   "metadata": {},
   "outputs": [],
   "source": [
    "%matplotlib inline\n",
    "\n",
    "import numpy as np\n",
    "import matplotlib.pyplot as plt\n",
    "import pandas as pd "
   ]
  },
  {
   "cell_type": "code",
   "execution_count": 5,
   "metadata": {},
   "outputs": [],
   "source": [
    "import xlwings as xw"
   ]
  },
  {
   "cell_type": "code",
   "execution_count": 6,
   "metadata": {},
   "outputs": [
    {
     "name": "stdout",
     "output_type": "stream",
     "text": [
      "[[ 3]\n",
      " [-1]]\n",
      "[[8]\n",
      " [4]\n",
      " [0]]\n",
      "[[-1]\n",
      " [ 0]\n",
      " [ 0]\n",
      " [ 3]]\n",
      "[[ 4]\n",
      " [ 0]\n",
      " [-3]\n",
      " [ 2]\n",
      " [ 1]]\n"
     ]
    }
   ],
   "source": [
    "u = np.array([3, -1]).reshape(2, 1)\n",
    "v = np.array([8, 4, 0]).reshape(3, 1)\n",
    "w = np.array([-1, 0, 0, 3]).reshape(4, 1)\n",
    "x = np.array([4, 0, -3, 2, 1]).reshape(5, 1)\n",
    "print(u)\n",
    "print(v)\n",
    "print(w)\n",
    "print(x)"
   ]
  },
  {
   "cell_type": "code",
   "execution_count": 7,
   "metadata": {},
   "outputs": [
    {
     "name": "stdout",
     "output_type": "stream",
     "text": [
      "(2, 1)\n",
      "2\n",
      "---\n",
      "(3, 1)\n",
      "3\n",
      "---\n",
      "(4, 1)\n",
      "4\n",
      "---\n",
      "(5, 1)\n",
      "5\n",
      "---\n"
     ]
    }
   ],
   "source": [
    "u = np.array([3, -1]).reshape(2, 1)\n",
    "v = np.array([8, 4, 0]).reshape(3, 1)\n",
    "w = np.array([-1, 0, 0, 3]).reshape(4, 1)\n",
    "x = np.array([4, 0, -3, 2, 1]).reshape(5, 1)\n",
    "vectors = [u, v, w, x]\n",
    "for vec in vectors:\n",
    "  print(vec.shape)\n",
    "  print(vec.size)\n",
    "  print(\"---\")"
   ]
  },
  {
   "cell_type": "code",
   "execution_count": 8,
   "metadata": {},
   "outputs": [
    {
     "name": "stderr",
     "output_type": "stream",
     "text": [
      "/Users/anniechin/anaconda3/lib/python3.7/_collections_abc.py:841: MatplotlibDeprecationWarning: \n",
      "The examples.directory rcparam was deprecated in Matplotlib 3.0 and will be removed in 3.2. In the future, examples will be found relative to the 'datapath' directory.\n",
      "  self[key] = other[key]\n",
      "/Users/anniechin/anaconda3/lib/python3.7/_collections_abc.py:841: MatplotlibDeprecationWarning: \n",
      "The savefig.frameon rcparam was deprecated in Matplotlib 3.1 and will be removed in 3.3.\n",
      "  self[key] = other[key]\n",
      "/Users/anniechin/anaconda3/lib/python3.7/_collections_abc.py:841: MatplotlibDeprecationWarning: \n",
      "The text.latex.unicode rcparam was deprecated in Matplotlib 3.0 and will be removed in 3.2.\n",
      "  self[key] = other[key]\n",
      "/Users/anniechin/anaconda3/lib/python3.7/_collections_abc.py:841: MatplotlibDeprecationWarning: \n",
      "The verbose.fileo rcparam was deprecated in Matplotlib 3.1 and will be removed in 3.3.\n",
      "  self[key] = other[key]\n",
      "/Users/anniechin/anaconda3/lib/python3.7/_collections_abc.py:841: MatplotlibDeprecationWarning: \n",
      "The verbose.level rcparam was deprecated in Matplotlib 3.1 and will be removed in 3.3.\n",
      "  self[key] = other[key]\n"
     ]
    }
   ],
   "source": [
    "import seaborn\n",
    "seaborn.reset_orig()\n",
    "\n",
    "def plot_a_vector(x, y, tick=2):\n",
    "  \"\"\"\n",
    "  描繪一個 (x, y) 的向量\n",
    "  \"\"\"\n",
    "  x0 = 0\n",
    "  y0 = 0\n",
    "\n",
    "  dx = x\n",
    "  dy = y\n",
    "\n",
    "  max_val = max(abs(dx), abs(dy)) + 2\n",
    "  plt.xlim(-max_val, max_val)\n",
    "  plt.ylim(-max_val, max_val)\n",
    "  ax = plt.gca()\n",
    "\n",
    "  ax.spines['top'].set_color('none')\n",
    "  ax.spines['right'].set_color('none')\n",
    "\n",
    "  ax.xaxis.set_ticks_position('bottom')\n",
    "  ax.spines['bottom'].set_position(('data',0))\n",
    "  ax.yaxis.set_ticks_position('left')\n",
    "  ax.spines['left'].set_position(('data',0))\n",
    "\n",
    "  if dx >= 0:\n",
    "    adjust = 0.5\n",
    "  else:\n",
    "    adjust = -3\n",
    "  ax.annotate('({}, {})'.format(dx, dy), xy=(dx, dy), xytext=(dx + adjust, dy))\n",
    "\n",
    "  plt.arrow(x0, y0, dx, dy, length_includes_head=True, head_width=0.3)\n",
    "\n",
    "  plt.xticks(range(-max_val + 1, max_val - 1, tick))\n",
    "  plt.yticks(range(-max_val + 1, max_val - 1, tick))"
   ]
  },
  {
   "cell_type": "code",
   "execution_count": 9,
   "metadata": {},
   "outputs": [
    {
     "data": {
      "image/png": "[encoded data removed]",
      "text/plain": [
       "<Figure size 432x288 with 4 Axes>"
      ]
     },
     "metadata": {
      "needs_background": "light"
     },
     "output_type": "display_data"
    }
   ],
   "source": [
    "plt.subplot(2, 2, 1)\n",
    "plot_a_vector(1, 4)\n",
    "plt.subplot(2, 2, 2)\n",
    "plot_a_vector(-5, 3)\n",
    "plt.subplot(2, 2, 3)\n",
    "plot_a_vector(-1, -5)\n",
    "plt.subplot(2, 2, 4)\n",
    "plot_a_vector(2, -3)"
   ]
  },
  {
   "cell_type": "markdown",
   "metadata": {},
   "source": [
    "#### 向量運算"
   ]
  },
  {
   "cell_type": "code",
   "execution_count": 10,
   "metadata": {},
   "outputs": [
    {
     "name": "stdout",
     "output_type": "stream",
     "text": [
      "[[2]\n",
      " [4]]\n",
      "---\n",
      "[[ 6]\n",
      " [12]]\n",
      "---\n",
      "[[1]\n",
      " [2]]\n",
      "---\n",
      "[[-2]\n",
      " [-4]]\n"
     ]
    },
    {
     "data": {
      "image/png": "[encoded data removed]",
      "text/plain": [
       "<Figure size 1152x288 with 4 Axes>"
      ]
     },
     "metadata": {
      "needs_background": "light"
     },
     "output_type": "display_data"
    }
   ],
   "source": [
    "arr = np.array([2, 4]).reshape(2, 1)\n",
    "print(arr)\n",
    "print(\"---\")\n",
    "print(3 * arr)\n",
    "print(\"---\")\n",
    "print((0.5 * arr).astype(int))\n",
    "print(\"---\")\n",
    "print(-1 * arr)\n",
    "\n",
    "plt.figure(figsize=(16,4))\n",
    "plt.subplot(1, 4, 1)\n",
    "plot_a_vector(2, 4)\n",
    "plt.subplot(1, 4, 2)\n",
    "plot_a_vector(6, 12, 3)\n",
    "plt.subplot(1, 4, 3)\n",
    "plot_a_vector(1, 2, 1)\n",
    "plt.subplot(1, 4, 4)\n",
    "plot_a_vector(-2, -4)"
   ]
  },
  {
   "cell_type": "code",
   "execution_count": 11,
   "metadata": {},
   "outputs": [
    {
     "name": "stdout",
     "output_type": "stream",
     "text": [
      "[[5]\n",
      " [5]]\n"
     ]
    },
    {
     "data": {
      "image/png": "[encoded data removed]",
      "text/plain": [
       "<Figure size 720x288 with 2 Axes>"
      ]
     },
     "metadata": {
      "needs_background": "light"
     },
     "output_type": "display_data"
    }
   ],
   "source": [
    "u = np.array([2, 4]).reshape(2, 1)\n",
    "v = np.array([3, 1]).reshape(2, 1)\n",
    "print(u + v)\n",
    "\n",
    "def plot_two_vectors():\n",
    "\n",
    "  x0 = 0\n",
    "  y0 = 0\n",
    "\n",
    "  dx1 = 2\n",
    "  dy1 = 4\n",
    "  dx2 = 3\n",
    "  dy2 = 1\n",
    "\n",
    "  plt.xlim(-3, 6)\n",
    "  plt.ylim(-3, 6)\n",
    "  ax = plt.gca()\n",
    "\n",
    "  ax.spines['top'].set_color('none')\n",
    "  ax.spines['right'].set_color('none')\n",
    "\n",
    "  ax.xaxis.set_ticks_position('bottom')\n",
    "  ax.spines['bottom'].set_position(('data',0))\n",
    "  ax.yaxis.set_ticks_position('left')\n",
    "  ax.spines['left'].set_position(('data',0))\n",
    "\n",
    "  adjust = 0.5\n",
    "  ax.annotate('({}, {})'.format(dx1, dy1), xy=(dx1, dy1), xytext=(dx1 + adjust, dy1))\n",
    "  ax.annotate('({}, {})'.format(dx2, dy2), xy=(dx2, dy2), xytext=(dx2 + adjust, dy2))\n",
    "\n",
    "  plt.arrow(x0, y0, dx1, dy1, length_includes_head=True, head_width=0.3)\n",
    "  plt.arrow(x0, y0, dx2, dy2, length_includes_head=True, head_width=0.3)\n",
    "\n",
    "def plot_adding_vectors():\n",
    "\n",
    "  x0 = 0\n",
    "  y0 = 0\n",
    "\n",
    "  dx1 = 2\n",
    "  dy1 = 4\n",
    "  dx2 = 5\n",
    "  dy2 = 5\n",
    "\n",
    "  plt.xlim(-3, 6)\n",
    "  plt.ylim(-3, 6)\n",
    "  ax = plt.gca()\n",
    "\n",
    "  ax.spines['top'].set_color('none')\n",
    "  ax.spines['right'].set_color('none')\n",
    "\n",
    "  ax.xaxis.set_ticks_position('bottom')\n",
    "  ax.spines['bottom'].set_position(('data',0))\n",
    "  ax.yaxis.set_ticks_position('left')\n",
    "  ax.spines['left'].set_position(('data',0))\n",
    "\n",
    "  adjust = 0.5\n",
    "  ax.annotate('({}, {})'.format(dx1, dy1), xy=(dx1, dy1), xytext=(dx1 - adjust*3, dy1 - adjust*2))\n",
    "  ax.annotate('({}, {})'.format(3, 1), xy=(dx2, dy2), xytext=(dx2 - adjust*4, dy2))\n",
    "  ax.annotate('({}, {})'.format(dx2, dy2), xy=(dx2, dy2), xytext=(dx2 + adjust, dy2))\n",
    "\n",
    "  plt.arrow(x0, y0, dx1, dy1, length_includes_head=True, head_width=0.2, ls='dotted')\n",
    "  plt.arrow(dx1, dy1, 3, 1, length_includes_head=True, head_width=0.2, ls = 'dotted')\n",
    "  plt.arrow(x0, y0, dx2, dy2, length_includes_head=True, head_width=0.3)\n",
    "\n",
    "plt.figure(figsize=(10, 4))\n",
    "plt.subplot(1, 2, 1)\n",
    "plot_two_vectors()\n",
    "plt.subplot(1, 2, 2)\n",
    "plot_adding_vectors()"
   ]
  },
  {
   "cell_type": "code",
   "execution_count": null,
   "metadata": {},
   "outputs": [],
   "source": []
  }
 ],
 "metadata": {
  "kernelspec": {
   "display_name": "Python 3",
   "language": "python",
   "name": "python3"
  },
  "language_info": {
   "codemirror_mode": {
    "name": "ipython",
    "version": 3
   },
   "file_extension": ".py",
   "mimetype": "text/x-python",
   "name": "python",
   "nbconvert_exporter": "python",
   "pygments_lexer": "ipython3",
   "version": "3.7.3"
  }
 },
 "nbformat": 4,
 "nbformat_minor": 2
}

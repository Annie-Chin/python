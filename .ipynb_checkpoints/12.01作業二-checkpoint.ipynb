{
 "cells": [
  {
   "cell_type": "code",
   "execution_count": 1,
   "metadata": {},
   "outputs": [],
   "source": [
    "%matplotlib inline\n",
    "\n",
    "import numpy as np\n",
    "import matplotlib.pyplot as plt\n",
    "import pandas as pd"
   ]
  },
  {
   "cell_type": "code",
   "execution_count": 2,
   "metadata": {},
   "outputs": [],
   "source": [
    "import xlwings as xw"
   ]
  },
  {
   "cell_type": "code",
   "execution_count": 11,
   "metadata": {},
   "outputs": [
    {
     "name": "stdout",
     "output_type": "stream",
     "text": [
      "[[ 3]\n",
      " [-1]]\n",
      "[[8]\n",
      " [4]\n",
      " [0]]\n",
      "[[-1]\n",
      " [ 0]\n",
      " [ 0]\n",
      " [ 3]]\n",
      "[[ 4]\n",
      " [ 0]\n",
      " [-3]\n",
      " [ 2]\n",
      " [ 1]]\n"
     ]
    }
   ],
   "source": [
    "u = np.array([3, -1]).reshape(2, 1)\n",
    "v = np.array([8, 4, 0]).reshape(3, 1)\n",
    "w = np.array([-1, 0, 0, 3]).reshape(4, 1)\n",
    "x = np.array([4, 0, -3, 2, 1]).reshape(5, 1)\n",
    "print(u)\n",
    "print(v)\n",
    "print(w)\n",
    "print(x)"
   ]
  },
  {
   "cell_type": "code",
   "execution_count": 12,
   "metadata": {},
   "outputs": [
    {
     "name": "stdout",
     "output_type": "stream",
     "text": [
      "(2, 1)\n",
      "2\n",
      "---\n",
      "(3, 1)\n",
      "3\n",
      "---\n",
      "(4, 1)\n",
      "4\n",
      "---\n",
      "(5, 1)\n",
      "5\n",
      "---\n"
     ]
    }
   ],
   "source": [
    "u = np.array([3, -1]).reshape(2, 1)\n",
    "v = np.array([8, 4, 0]).reshape(3, 1)\n",
    "w = np.array([-1, 0, 0, 3]).reshape(4, 1)\n",
    "x = np.array([4, 0, -3, 2, 1]).reshape(5, 1)\n",
    "vectors = [u, v, w, x]\n",
    "for vec in vectors:\n",
    "  print(vec.shape)\n",
    "  print(vec.size)\n",
    "  print(\"---\")"
   ]
  },
  {
   "cell_type": "code",
   "execution_count": 13,
   "metadata": {},
   "outputs": [],
   "source": [
    "import seaborn\n",
    "seaborn.reset_orig()\n",
    "\n",
    "def plot_a_vector(x, y, tick=2):\n",
    "  \"\"\"\n",
    "  描繪一個 (x, y) 的向量\n",
    "  \"\"\"\n",
    "  x0 = 0\n",
    "  y0 = 0\n",
    "\n",
    "  dx = x\n",
    "  dy = y\n",
    "\n",
    "  max_val = max(abs(dx), abs(dy)) + 2\n",
    "  plt.xlim(-max_val, max_val)\n",
    "  plt.ylim(-max_val, max_val)\n",
    "  ax = plt.gca()\n",
    "\n",
    "  ax.spines['top'].set_color('none')\n",
    "  ax.spines['right'].set_color('none')\n",
    "\n",
    "  ax.xaxis.set_ticks_position('bottom')\n",
    "  ax.spines['bottom'].set_position(('data',0))\n",
    "  ax.yaxis.set_ticks_position('left')\n",
    "  ax.spines['left'].set_position(('data',0))\n",
    "\n",
    "  if dx >= 0:\n",
    "    adjust = 0.5\n",
    "  else:\n",
    "    adjust = -3\n",
    "  ax.annotate('({}, {})'.format(dx, dy), xy=(dx, dy), xytext=(dx + adjust, dy))\n",
    "\n",
    "  plt.arrow(x0, y0, dx, dy, length_includes_head=True, head_width=0.3)\n",
    "\n",
    "  plt.xticks(range(-max_val + 1, max_val - 1, tick))\n",
    "  plt.yticks(range(-max_val + 1, max_val - 1, tick))"
   ]
  },
  {
   "cell_type": "code",
   "execution_count": 14,
   "metadata": {},
   "outputs": [
    {
     "data": {
      "image/png": "[encoded data removed]",
      "text/plain": [
       "<Figure size 432x288 with 4 Axes>"
      ]
     },
     "metadata": {
      "needs_background": "light"
     },
     "output_type": "display_data"
    }
   ],
   "source": [
    "plt.subplot(2, 2, 1)\n",
    "plot_a_vector(1, 4)\n",
    "plt.subplot(2, 2, 2)\n",
    "plot_a_vector(-5, 3)\n",
    "plt.subplot(2, 2, 3)\n",
    "plot_a_vector(-1, -5)\n",
    "plt.subplot(2, 2, 4)\n",
    "plot_a_vector(2, -3)"
   ]
  },
  {
   "cell_type": "code",
   "execution_count": null,
   "metadata": {},
   "outputs": [],
   "source": []
  }
 ],
 "metadata": {
  "kernelspec": {
   "display_name": "Python 3",
   "language": "python",
   "name": "python3"
  },
  "language_info": {
   "codemirror_mode": {
    "name": "ipython",
    "version": 3
   },
   "file_extension": ".py",
   "mimetype": "text/x-python",
   "name": "python",
   "nbconvert_exporter": "python",
   "pygments_lexer": "ipython3",
   "version": "3.7.3"
  }
 },
 "nbformat": 4,
 "nbformat_minor": 2
}

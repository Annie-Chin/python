{
 "cells": [
  {
   "cell_type": "code",
   "execution_count": 1,
   "metadata": {},
   "outputs": [],
   "source": [
    "%matplotlib inline\n",
    "\n",
    "import numpy as np\n",
    "import matplotlib.pyplot as plt\n",
    "import pandas as pd "
   ]
  },
  {
   "cell_type": "code",
   "execution_count": 6,
   "metadata": {},
   "outputs": [
    {
     "name": "stdout",
     "output_type": "stream",
     "text": [
      "請輸入第1次考試的分數:50\n",
      "請輸入第2次考試的分數:60\n",
      "請輸入第3次考試的分數:70\n",
      "三次考試的總分為 180\n"
     ]
    }
   ],
   "source": [
    "list=[]\n",
    "\n",
    "for i in range(1,4):\n",
    "    prompt=\"請輸入第\"+str(i)+\"次考試的分數:\"\n",
    "    score=eval(input(prompt))\n",
    "    list.append(score)\n",
    "    \n",
    "print(\"三次考試的總分為\",sum(list))"
   ]
  },
  {
   "cell_type": "code",
   "execution_count": 7,
   "metadata": {},
   "outputs": [
    {
     "name": "stdout",
     "output_type": "stream",
     "text": [
      "請輸入第1次考試的分數:50\n",
      "請輸入第2次考試的分數:60\n",
      "請輸入第3次考試的分數:70\n",
      "三次考試的平均為 60.0\n"
     ]
    }
   ],
   "source": [
    "list=[]\n",
    "\n",
    "for i in range(1,4):\n",
    "    prompt=\"請輸入第\"+str(i)+\"次考試的分數:\"\n",
    "    score=eval(input(prompt))\n",
    "    list.append(score)\n",
    "    \n",
    "print(\"三次考試的平均為\",sum(list)/3)"
   ]
  },
  {
   "cell_type": "code",
   "execution_count": null,
   "metadata": {},
   "outputs": [],
   "source": []
  }
 ],
 "metadata": {
  "kernelspec": {
   "display_name": "Python 3",
   "language": "python",
   "name": "python3"
  },
  "language_info": {
   "codemirror_mode": {
    "name": "ipython",
    "version": 3
   },
   "file_extension": ".py",
   "mimetype": "text/x-python",
   "name": "python",
   "nbconvert_exporter": "python",
   "pygments_lexer": "ipython3",
   "version": "3.7.3"
  }
 },
 "nbformat": 4,
 "nbformat_minor": 2
}

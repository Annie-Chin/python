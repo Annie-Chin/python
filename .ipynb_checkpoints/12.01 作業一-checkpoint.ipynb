{
 "cells": [
  {
   "cell_type": "code",
   "execution_count": 1,
   "metadata": {},
   "outputs": [],
   "source": [
    "%matplotlib inline\n",
    "\n",
    "import numpy as np\n",
    "import matplotlib.pyplot as plt\n",
    "import pandas as pd"
   ]
  },
  {
   "cell_type": "code",
   "execution_count": 12,
   "metadata": {},
   "outputs": [
    {
     "name": "stdout",
     "output_type": "stream",
     "text": [
      "請輸入今日預算: 200\n",
      "請輸入早餐錢: 25\n",
      "請輸入午餐錢: 70\n",
      "請輸入晚餐錢: 55\n",
      "請輸入交通費: 4\n",
      "請輸入娛樂費: 0\n",
      "請輸入額外費用: 0\n",
      "共剩下46元\n"
     ]
    }
   ],
   "source": [
    "money=int(input('請輸入今日預算: '))\n",
    "a=int(input('請輸入早餐錢: '))\n",
    "b=int(input('請輸入午餐錢: '))\n",
    "c=int(input('請輸入晚餐錢: '))\n",
    "d=int(input('請輸入交通費: '))\n",
    "e=int(input('請輸入娛樂費: '))\n",
    "f=int(input('請輸入額外費用: '))\n",
    "g=a+b+c+d+e+f\n",
    "h=money-g\n",
    "\n",
    "print('共剩下'+str(h)+'元')\n",
    "            "
   ]
  },
  {
   "cell_type": "code",
   "execution_count": null,
   "metadata": {},
   "outputs": [],
   "source": []
  }
 ],
 "metadata": {
  "kernelspec": {
   "display_name": "Python 3",
   "language": "python",
   "name": "python3"
  },
  "language_info": {
   "codemirror_mode": {
    "name": "ipython",
    "version": 3
   },
   "file_extension": ".py",
   "mimetype": "text/x-python",
   "name": "python",
   "nbconvert_exporter": "python",
   "pygments_lexer": "ipython3",
   "version": "3.7.3"
  }
 },
 "nbformat": 4,
 "nbformat_minor": 2
}
